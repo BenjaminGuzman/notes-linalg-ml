{
 "cells": [
  {
   "cell_type": "code",
   "execution_count": 1,
   "id": "df9daf9a-0755-4bed-a0d2-216a79d5d264",
   "metadata": {},
   "outputs": [],
   "source": [
    "import numpy as np\n",
    "from matplotlib import pyplot as plt\n",
    "from IPython.display import display, Math"
   ]
  },
  {
   "cell_type": "code",
   "execution_count": 2,
   "id": "3af89d43-2186-4b4d-81b9-727a2a3bd074",
   "metadata": {},
   "outputs": [],
   "source": [
    "%run graficarVectores.ipynb\n",
    "%run graficarMatriz.ipynb"
   ]
  },
  {
   "cell_type": "markdown",
   "id": "2a6dec8e-05e3-4b5f-9ac5-d22aca4f4088",
   "metadata": {},
   "source": [
    "# Descomposición con vectores y valores característicos"
   ]
  },
  {
   "cell_type": "markdown",
   "id": "49afaf35-f1bc-4dc8-a122-db60d1365565",
   "metadata": {},
   "source": [
    "Sea $A \\in M_{n}$, podemos escribir ($v_i$ es un vector columna)\n",
    "\n",
    "$$\n",
    "A = \\begin{bmatrix}\n",
    "    v_1 & v_2 & \\dots & v_n\n",
    "\\end{bmatrix}\n",
    "\\begin{bmatrix}\n",
    "    \\lambda_1 & 0         & 0      & 0\\\\\n",
    "    0         & \\lambda_2 & 0      & 0\\\\\n",
    "    0         & 0         & \\ddots & 0\\\\\n",
    "    0         & 0         & 0      & \\lambda_n\n",
    "\\end{bmatrix}\n",
    "\\begin{bmatrix}\n",
    "    v_1 & v_2 & \\dots & v_n\n",
    "\\end{bmatrix}^{-1}\\\\\n",
    "A = V \\Lambda V^{-1}\n",
    "$$\n",
    "\n",
    "Donde $v_i$ es un autovector de $A$, y $\\lambda_i$ es un autovalor.\n",
    "\n",
    "**Demostración**\n",
    "\n",
    "Sea\n",
    "$$\n",
    "V = \\begin{bmatrix}\n",
    "    v_1 & v_2 & \\dots & v_n\n",
    "\\end{bmatrix}\\\\\n",
    "$$\n",
    "\n",
    "$V$ contiene a los vectores característicos de $A$.\n",
    "\n",
    "$$\n",
    "AV = \n",
    "A \\begin{bmatrix}\n",
    "    v_1 & v_2 & \\dots & v_n\n",
    "\\end{bmatrix} =\n",
    "\\begin{bmatrix}\n",
    "    A v_1 & A v_2 & \\dots & A v_n\n",
    "\\end{bmatrix}\n",
    "$$\n",
    "\n",
    "Como $v_i$ es vector característico se cumple que $A v_i = \\lambda_i v_i$, entonces\n",
    "\n",
    "$$\n",
    "AV = \n",
    "\\begin{bmatrix}\n",
    "    A v_1 & A v_2 & \\dots & A v_n\n",
    "\\end{bmatrix} =\n",
    "\\begin{bmatrix}\n",
    "    \\lambda_1 v_1 & \\lambda_2 v_2 & \\dots & \\lambda_n v_n\n",
    "\\end{bmatrix} = \n",
    "\\begin{bmatrix}\n",
    "    v_1 & v_2 & \\dots &  v_n\n",
    "\\end{bmatrix} \\begin{bmatrix}\n",
    "    \\lambda_1 & 0         & 0      & 0\\\\\n",
    "    0         & \\lambda_2 & 0      & 0\\\\\n",
    "    0         & 0         & \\ddots & 0\\\\\n",
    "    0         & 0         & 0      & \\lambda_n\n",
    "\\end{bmatrix}\n",
    "$$\n",
    "\n",
    "$$\n",
    "AVV^{-1} = \n",
    "\\begin{bmatrix}\n",
    "    v_1 & v_2 & \\dots &  v_n\n",
    "\\end{bmatrix} \\begin{bmatrix}\n",
    "    \\lambda_1 & 0         & 0      & 0\\\\\n",
    "    0         & \\lambda_2 & 0      & 0\\\\\n",
    "    0         & 0         & \\ddots & 0\\\\\n",
    "    0         & 0         & 0      & \\lambda_n\n",
    "\\end{bmatrix} V^{-1}\\\\\n",
    "A = V \\Lambda V^{-1}\n",
    "$$\n",
    "\n",
    "q.e.d.\n",
    "\n",
    "Otra forma:\n",
    "\n",
    "$$\n",
    "A = \\begin{bmatrix}\n",
    "    v_1 & v_2 & \\dots & v_n\n",
    "\\end{bmatrix}\n",
    "\\begin{bmatrix}\n",
    "    \\lambda_1 & 0         & 0      & 0\\\\\n",
    "    0         & \\lambda_2 & 0      & 0\\\\\n",
    "    0         & 0         & \\ddots & 0\\\\\n",
    "    0         & 0         & 0      & \\lambda_n\n",
    "\\end{bmatrix}\n",
    "\\begin{bmatrix}\n",
    "    v_1 & v_2 & \\dots & v_n\n",
    "\\end{bmatrix}^{-1} =\n",
    "\\begin{bmatrix}\n",
    "    \\lambda_1 v_1 & \\lambda_2 v_2 & \\dots & \\lambda_n v_n\n",
    "\\end{bmatrix}\n",
    "\\begin{bmatrix}\n",
    "    v_1 & v_2 & \\dots & v_n\n",
    "\\end{bmatrix}^{-1} = \n",
    "\\begin{bmatrix}\n",
    "    A v_1 & A v_2 & \\dots & A v_n\n",
    "\\end{bmatrix}\n",
    "\\begin{bmatrix}\n",
    "    v_1 & v_2 & \\dots & v_n\n",
    "\\end{bmatrix}^{-1} =\n",
    "A \\begin{bmatrix}\n",
    "    v_1 & v_2 & \\dots & v_n\n",
    "\\end{bmatrix}\n",
    "\\begin{bmatrix}\n",
    "    v_1 & v_2 & \\dots & v_n\n",
    "\\end{bmatrix}^{-1} = \n",
    "A V V^{-1} = A\n",
    "$$\n",
    "\n",
    "q.e.d."
   ]
  },
  {
   "cell_type": "markdown",
   "id": "e302b896-d635-4ed6-8a44-d6d45b441b75",
   "metadata": {},
   "source": [
    "**Aplicaciones**\n",
    "\n",
    "$$\n",
    "\\begin{split}\n",
    "A^n &= (V \\Lambda V^{-1})^n\\\\\n",
    "&= (V \\Lambda V^{-1}) (V \\Lambda V^{-1}) (V \\Lambda V^{-1}) (V \\Lambda V^{-1}) \\dots\\\\\n",
    "&= V \\Lambda V^{-1} V \\Lambda V^{-1} V \\Lambda V^{-1} V \\Lambda V^{-1} \\dots\\\\\n",
    "&= V \\Lambda I \\Lambda I \\Lambda I \\Lambda V^{-1} \\dots\\\\\n",
    "&= V \\Lambda^n V^{-1}\n",
    "\\end{split}\n",
    "$$\n",
    "\n",
    "Si $A = A^T$, entonces $A^n = V \\Lambda^n V^T$\n",
    "\n",
    "Cálculo de la serie de Fibonnacci https://brilliant.org/wiki/matrix-diagonalization/\n",
    "\n",
    "https://dkatz.ku.edu/Math%20290/M290_Lecture13h.pdf"
   ]
  },
  {
   "cell_type": "markdown",
   "id": "eb32f288-0577-455d-b8ac-1ed031da1fe9",
   "metadata": {},
   "source": [
    "### Código"
   ]
  },
  {
   "cell_type": "code",
   "execution_count": 3,
   "id": "5ea0f9b3-366f-4b24-b292-06cdf8b4b60a",
   "metadata": {},
   "outputs": [
    {
     "name": "stdout",
     "output_type": "stream",
     "text": [
      "[ 5. -1.]\n",
      "[[ 0.70710678 -0.4472136 ]\n",
      " [ 0.70710678  0.89442719]]\n",
      "0.3162277660168379\n"
     ]
    }
   ],
   "source": [
    "A = np.array([\n",
    "    [3, 2],\n",
    "    [4, 1]\n",
    "])\n",
    "\n",
    "eigenvalues, eigenvectors = np.linalg.eig(A)\n",
    "print(eigenvalues)\n",
    "print(eigenvectors)\n",
    "print(eigenvectors[:, 0] @ eigenvectors[:, 1]) # corroborando que los eigenvectores sean ortogonales"
   ]
  },
  {
   "cell_type": "code",
   "execution_count": 4,
   "id": "edab3650-c081-4103-9e95-a567f05ccd89",
   "metadata": {},
   "outputs": [
    {
     "name": "stdout",
     "output_type": "stream",
     "text": [
      "[[3. 2.]\n",
      " [4. 1.]]\n"
     ]
    }
   ],
   "source": [
    "# usando A = V L V^-1\n",
    "V = eigenvectors\n",
    "L = np.diag(eigenvalues)\n",
    "print(V.dot(L).dot(np.linalg.inv(V)))"
   ]
  },
  {
   "cell_type": "markdown",
   "id": "81f75f57-e39a-49a5-8c75-d8a1095b47f7",
   "metadata": {},
   "source": [
    "### A mano"
   ]
  },
  {
   "cell_type": "markdown",
   "id": "83817515-9427-4d0e-a7c6-b7db155e358d",
   "metadata": {},
   "source": [
    "$$\n",
    "A = \\begin{bmatrix}\n",
    "3 & 2\\\\\n",
    "4 & 1\n",
    "\\end{bmatrix}\n",
    "$$\n",
    "\n",
    "Buscamos un $\\textbf{x}$ tal que $A\\textbf{x} = \\lambda \\textbf{x}\\ \\forall \\lambda \\in R$\n",
    "\n",
    "($\\textbf{x}$ es el vector característico, $\\lambda$ es el valor característico)\n",
    "\n",
    "$$\n",
    "A\\textbf{x} = \\lambda \\textbf{x}\\\\\n",
    "A\\textbf{x} - \\lambda \\textbf{x} = \\textbf{0}\\\\\n",
    "(A - \\lambda)\\textbf{x} = \\textbf{0}\\\\\n",
    "(A - \\lambda I)\\textbf{x} = \\textbf{0}\\\\\n",
    "$$\n",
    "\n",
    "Para que el sistema no tenga únicamente la solución trivial se require que $|A - \\lambda I| = 0$ ([explicación](https://math.stackexchange.com/questions/2288308/why-non-trivial-solution-only-if-determinant-is-zero)) porque si $|A - \\lambda I| \\neq 0$ entonces la inversa existe, y $\\textbf{x} = (A - \\lambda I)^{-1} \\textbf{0} = \\textbf{0}$, i.e. solo existe la solución trivial. Así\n",
    "\n",
    "$$\n",
    "\\begin{split}\n",
    "\\begin{vmatrix}\n",
    "\\begin{bmatrix}\n",
    "3 & 2\\\\\n",
    "4 & 1\n",
    "\\end{bmatrix} - \\begin{bmatrix}\n",
    "\\lambda & 0\\\\\n",
    "0         & \\lambda\n",
    "\\end{bmatrix}\n",
    "\\end{vmatrix} &= 0\\\\\n",
    "\\begin{vmatrix}\n",
    "3 - \\lambda & 2\\\\\n",
    "4           & 1 - \\lambda\n",
    "\\end{vmatrix} &= 0\\\\\n",
    "(3 - \\lambda)(1 - \\lambda) - 8 &= 0\\\\\n",
    "3 - 4\\lambda + \\lambda^2 - 8 &= 0\\\\\n",
    "\\lambda^2 - 4\\lambda - 5 &= 0\\\\\n",
    "(\\lambda - 5)(\\lambda + 1) &= 0 \\implies \\lambda = \\{5, -1\\}\n",
    "\\end{split}\n",
    "$$\n",
    "\n",
    "Para hallar los vectores característicos:\n",
    "\n",
    "1. Con $\\lambda = 5$\n",
    "$$\n",
    "\\begin{split}\n",
    "A \\textbf{x} &= 5 \\textbf{x}\n",
    "\\\\\n",
    "\\begin{bmatrix}\n",
    "3 & 2\\\\\n",
    "4 & 1\n",
    "\\end{bmatrix} \n",
    "\\begin{bmatrix}\n",
    "a\\\\\n",
    "b\n",
    "\\end{bmatrix} &= 5 \\begin{bmatrix}\n",
    "a\\\\\n",
    "b\n",
    "\\end{bmatrix}\n",
    "\\\\\n",
    "\\begin{bmatrix}\n",
    "3 a + 2 b\\\\\n",
    "4 a + 1 b\n",
    "\\end{bmatrix} &= \\begin{bmatrix}\n",
    "5 a\\\\\n",
    "5 b\n",
    "\\end{bmatrix}\n",
    "\\end{split}\n",
    "$$\n",
    "\n",
    "Resolviendo se tiene que $a = b$, por lo tanto un vector característico tiene la forma\n",
    "$$\n",
    "\\begin{bmatrix}\n",
    "t\\\\\n",
    "t\n",
    "\\end{bmatrix} \\forall t \\in R\n",
    "$$\n",
    "\n",
    "Si queremos un vector unitario:\n",
    "$$\n",
    "\\begin{split}\n",
    "||\\textbf{x}|| &= 1\\\\\n",
    "\\sqrt{<x, x>} &= 1\\\\\n",
    "\\sqrt{x \\cdot x} &= 1\\\\\n",
    "\\sqrt{x^T x} &= 1\\\\\n",
    "\\sqrt{\n",
    "\\begin{bmatrix}\n",
    "t & t\n",
    "\\end{bmatrix} \\begin{bmatrix}\n",
    "t\\\\\n",
    "t\n",
    "\\end{bmatrix}} &= 1\\\\\n",
    "\\sqrt{t^2 + t^2} &= 1\\\\\n",
    "\\sqrt{2t^2} &= 1\\\\\n",
    "t\\sqrt{2} &= 1\\\\\n",
    "t &= \\frac{1}{\\sqrt{2}} \\approx 0.70710678\n",
    "\\end{split}\n",
    "$$\n",
    "\n",
    "Y\n",
    "\n",
    "$$\n",
    "\\hat{\\textbf{x}} = \\begin{bmatrix}\n",
    "\\frac{1}{\\sqrt{2}}\\\\\n",
    "\\frac{1}{\\sqrt{2}}\n",
    "\\end{bmatrix}\n",
    "$$\n",
    "\n",
    "2. Con $\\lambda = -1$\n",
    "$$\n",
    "\\begin{split}\n",
    "\\begin{bmatrix}\n",
    "3 a + 2 b\\\\\n",
    "4 a + 1 b\n",
    "\\end{bmatrix} &= \\begin{bmatrix}\n",
    "-1 a\\\\\n",
    "-1 b\n",
    "\\end{bmatrix}\n",
    "\\end{split}\n",
    "$$\n",
    "\n",
    "Resolviendo se tiene que $b = -2a$, por lo tanto un vector característico tiene la forma\n",
    "$$\n",
    "\\begin{bmatrix}\n",
    "t\\\\\n",
    "-2t\n",
    "\\end{bmatrix} \\forall t \\in R\n",
    "$$\n",
    "\n",
    "Si queremos un vector unitario:\n",
    "$$\n",
    "\\begin{split}\n",
    "||\\textbf{x}|| &= 1\\\\\n",
    "\\sqrt{t^2 + 4t^2} &= 1\\\\\n",
    "t &= \\frac{1}{\\sqrt{5}} \\approx 0.4472135955\n",
    "\\end{split}\n",
    "$$\n",
    "\n",
    "Y\n",
    "\n",
    "$$\n",
    "\\hat{\\textbf{x}} = \\begin{bmatrix}\n",
    "\\frac{1}{\\sqrt{5}}\\\\\n",
    "-\\frac{2}{\\sqrt{5}}\n",
    "\\end{bmatrix}\n",
    "$$\n",
    "\n",
    "(para este caso, numpy sacó $-\\hat{\\textbf{x}}$, pero eso no importa porque ambos tienen la misma forma característica)"
   ]
  },
  {
   "cell_type": "markdown",
   "id": "44da4aff-d3f9-4c5b-b123-69c687a547dd",
   "metadata": {},
   "source": [
    "Entonces, calculados a mano, los valores, y vectores unitarios característicos son:\n",
    "\n",
    "$$\n",
    "\\lambda_1 = 5, \\lambda_2 = -1, \\hat{\\textbf{x}}_1 = \\begin{bmatrix}\n",
    "\\frac{1}{\\sqrt{2}}\\\\\n",
    "\\frac{1}{\\sqrt{2}}\n",
    "\\end{bmatrix}, \\hat{\\textbf{x}}_2 = \\begin{bmatrix}\n",
    "\\frac{1}{\\sqrt{5}}\\\\\n",
    "-\\frac{2}{\\sqrt{5}}\n",
    "\\end{bmatrix}\n",
    "$$\n",
    "\n",
    "Así\n",
    "\n",
    "$$\n",
    "V = \\begin{bmatrix}\n",
    "\\frac{1}{\\sqrt{2}} & \\frac{1}{\\sqrt{5}}\\\\\n",
    "\\frac{1}{\\sqrt{2}} & -\\frac{2}{\\sqrt{5}}\n",
    "\\end{bmatrix}\n",
    "$$\n",
    "\n",
    "$$\n",
    "V^{-1} = \\frac{1}{-\\frac{2}{\\sqrt{10}} - \\frac{1}{\\sqrt{10}}}\\begin{bmatrix}\n",
    "-\\frac{2}{\\sqrt{5}} & -\\frac{1}{\\sqrt{2}}\\\\\n",
    "-\\frac{1}{\\sqrt{5}} & \\frac{1}{\\sqrt{2}}\n",
    "\\end{bmatrix}^T = -\\frac{\\sqrt{10}}{3}\\begin{bmatrix}\n",
    "-\\frac{2}{\\sqrt{5}} & -\\frac{1}{\\sqrt{5}}\\\\\n",
    "-\\frac{1}{\\sqrt{2}} & \\frac{1}{\\sqrt{2}}\n",
    "\\end{bmatrix} = \\frac{1}{3}\\begin{bmatrix}\n",
    "2\\sqrt{2} & \\sqrt{2}\\\\\n",
    "\\sqrt{5}  & -\\sqrt{5}\n",
    "\\end{bmatrix}\n",
    "$$\n",
    "\n",
    "Luego podemos descomponer a $A$ como sigue:\n",
    "\n",
    "$$\n",
    "\\begin{split}\n",
    "A &= V \\Lambda V^{-1}\\\\\n",
    "&= \\begin{bmatrix}\n",
    "\\frac{1}{\\sqrt{2}} & \\frac{1}{\\sqrt{5}}\\\\\n",
    "\\frac{1}{\\sqrt{2}} & -\\frac{2}{\\sqrt{5}}\n",
    "\\end{bmatrix} \\begin{bmatrix}\n",
    "5 & 0\\\\\n",
    "0 & -1\n",
    "\\end{bmatrix} \\left( \\frac{1}{3}\\begin{bmatrix}\n",
    "2\\sqrt{2} & \\sqrt{2}\\\\\n",
    "\\sqrt{5}  & -\\sqrt{5}\n",
    "\\end{bmatrix} \\right)\\\\\n",
    "&= \\frac{1}{3} \\begin{bmatrix}\n",
    "\\frac{5}{\\sqrt{2}} & -\\frac{1}{\\sqrt{5}}\\\\\n",
    "\\frac{5}{\\sqrt{2}} & \\frac{2}{\\sqrt{5}}\n",
    "\\end{bmatrix}\\begin{bmatrix}\n",
    "2\\sqrt{2} & \\sqrt{2}\\\\\n",
    "\\sqrt{5}  & -\\sqrt{5}\n",
    "\\end{bmatrix}\\\\\n",
    "&= \\frac{1}{3} \\begin{bmatrix}\n",
    "9  & 6\\\\\n",
    "12 & 3\n",
    "\\end{bmatrix}\\\\\n",
    "&= \\begin{bmatrix}\n",
    "3 & 2\\\\\n",
    "4 & 1\n",
    "\\end{bmatrix}\n",
    "\\end{split}\n",
    "$$\n",
    "\n",
    "Magia! Qué bonita es la matemática"
   ]
  },
  {
   "cell_type": "markdown",
   "id": "d5955507-09c7-444b-9915-e583328e3982",
   "metadata": {},
   "source": [
    "¿Qué pasa si $V$ no tiene vectores unitarios únicamente?\n",
    "\n",
    "$$\n",
    "V = \\begin{bmatrix}\n",
    "t & l\\\\\n",
    "t & -2l\n",
    "\\end{bmatrix}\n",
    "$$\n",
    "\n",
    "$$\n",
    "V^{-1} = \\frac{1}{-2tl - tl}\\begin{bmatrix}\n",
    "-2l & -t\\\\\n",
    "-l  & t\n",
    "\\end{bmatrix}^T = -\\frac{1}{3tl}\\begin{bmatrix}\n",
    "-2l & -l\\\\\n",
    "-t  & t\n",
    "\\end{bmatrix} = \\frac{1}{3tl}\\begin{bmatrix}\n",
    "2l & l\\\\\n",
    "t  & -t\n",
    "\\end{bmatrix}\n",
    "$$\n",
    "\n",
    "Luego podemos descomponer a $A$ como sigue:\n",
    "\n",
    "$$\n",
    "\\begin{split}\n",
    "A &= V \\Lambda V^{-1}\\\\\n",
    "&= \\begin{bmatrix}\n",
    "t & l\\\\\n",
    "t & -2l\n",
    "\\end{bmatrix} \\begin{bmatrix}\n",
    "5 & 0\\\\\n",
    "0 & -1\n",
    "\\end{bmatrix} \\left( \\frac{1}{3tl}\\begin{bmatrix}\n",
    "2l & l\\\\\n",
    "t  & -t\n",
    "\\end{bmatrix} \\right)\\\\\n",
    "&= \\frac{1}{3tl} \\begin{bmatrix}\n",
    "5t & -l\\\\\n",
    "5t & 2l\n",
    "\\end{bmatrix}\\begin{bmatrix}\n",
    "2l & l\\\\\n",
    "t  & -t\n",
    "\\end{bmatrix}\\\\\n",
    "&= \\frac{1}{3tl} \\begin{bmatrix}\n",
    "9tl  & 6tl\\\\\n",
    "12tl & 3tl\n",
    "\\end{bmatrix}\\\\\n",
    "&= \\begin{bmatrix}\n",
    "3 & 2\\\\\n",
    "4 & 1\n",
    "\\end{bmatrix}\n",
    "\\end{split}\n",
    "$$\n",
    "\n",
    "No pasa nada, tenemos el mismo resultado"
   ]
  },
  {
   "cell_type": "markdown",
   "id": "56777c7f-9b17-4862-bf97-e23de166af63",
   "metadata": {},
   "source": [
    "## Si $A$ es simétrica"
   ]
  },
  {
   "cell_type": "markdown",
   "id": "703cf048-ac8f-44b7-bb05-efded1399424",
   "metadata": {},
   "source": [
    "Si $A$ es simétrica, i.e. $A = A^T \\implies V^{-1} = V^T$, y entonces podemos escribir\n",
    "\n",
    "$$A = V \\Lambda V^{-1} = V \\Lambda V ^ T$$\n",
    "\n",
    "**Demostración**\n",
    "https://medium.com/sho-jp/linear-algebra-101-part-7-eigendecomposition-when-symmetric-4cd41d38269e\n",
    "\n",
    "PD 1: Los vectores característicos son ortogonales. i.e. $A = A^T \\implies <v_i, v_j> = 0\\ \\forall i \\neq j$\n",
    "\n",
    "PD 2: Si los vectores característicos son ortonormales, entonces $V^{-1} = V^T$.\n",
    "\n",
    "1.\n",
    "\n",
    "$$\n",
    "\\begin{split}\n",
    "\\lambda_i <v_i, v_j> &= <\\lambda_i v_i, v_j>\\\\\n",
    "&= <A v_i, v_j>\\\\\n",
    "&= (A v_i)^T v_j\\\\\n",
    "&= v_i^T A^T v_j\\\\\n",
    "&= v_i^T A v_j\\\\\n",
    "&= <v_i, A v_j>\\\\\n",
    "&= <v_i, \\lambda_j v_j>\\\\\n",
    "&= \\lambda_j <v_i, v_j>\n",
    "\\end{split}\n",
    "$$\n",
    "\n",
    "Para que lo anterior sea cierto $\\lambda_i = \\lambda_j$, o bien $<v_i, v_j> = 0$, por lo tanto, si $i \\neq j$, entonces $<v_i, v_j> = 0$.\n",
    "\n",
    "2.\n",
    "\n",
    "$$\n",
    "\\begin{split}\n",
    "V V^{-1} = I = V V^T = I^T = (V V^T)^T &= V^T V\n",
    "\\\\\n",
    "&= \\begin{bmatrix}\n",
    "v_1\\\\\n",
    "v_2\\\\\n",
    "\\vdots\\\\\n",
    "v_n\n",
    "\\end{bmatrix} \n",
    "\\begin{bmatrix}\n",
    "v_1 & v_2 & \\dots & v_n\n",
    "\\end{bmatrix}\n",
    "\\\\\n",
    "&= \\begin{bmatrix}\n",
    "<v_1, v_1> & <v_1, v_2> & \\dots  & <v_1, v_n>\\\\\n",
    "<v_2, v_1> & <v_2, v_2> & \\dots  & <v_2, v_n>\\\\\n",
    "\\vdots     & \\vdots     & \\ddots & \\vdots\\\\\n",
    "<v_n, v_1> & <v_n, v_2> & \\dots  & <v_n, v_n>\n",
    "\\end{bmatrix}\n",
    "\\\\\n",
    "&= \\begin{bmatrix}\n",
    "1      & 0      & \\dots  & 0\\\\\n",
    "0      & 1      & \\dots  & 0\\\\\n",
    "\\vdots & \\vdots & \\ddots & \\vdots\\\\\n",
    "0      & 0      & \\dots  & 1\n",
    "\\end{bmatrix}\n",
    "\\\\\n",
    "&= I\n",
    "\\end{split}\n",
    "$$"
   ]
  },
  {
   "cell_type": "markdown",
   "id": "c90eac2d-085a-4466-bb5b-7355042e1f5b",
   "metadata": {},
   "source": [
    "### Código"
   ]
  },
  {
   "cell_type": "code",
   "execution_count": 5,
   "id": "e88d7a05-78f8-4fb7-af33-ef77322b80a1",
   "metadata": {},
   "outputs": [
    {
     "name": "stdout",
     "output_type": "stream",
     "text": [
      "[[3. 2.]\n",
      " [2. 1.]]\n",
      "[[3. 2.]\n",
      " [2. 1.]]\n"
     ]
    }
   ],
   "source": [
    "A = np.array([\n",
    "    [3, 2],\n",
    "    [2, 1]\n",
    "])\n",
    "\n",
    "eigenvalues, eigenvectors = np.linalg.eig(A)\n",
    "#print(eigenvectors)\n",
    "\n",
    "# usando A = V L V^-1\n",
    "# como A es simétrica, A = V L V^T\n",
    "V = eigenvectors\n",
    "L = np.diag(eigenvalues)\n",
    "print(V.dot(L).dot(V.T))\n",
    "print(V.dot(L).dot(np.linalg.inv(V)))\n",
    "# ambos resultados deben ser iguales\n",
    "# Lo anterior no se mantiene si A no es simétrica"
   ]
  },
  {
   "cell_type": "markdown",
   "id": "df93f04c-d461-4723-b13c-d6e3d4b52bcf",
   "metadata": {},
   "source": [
    "### A mano"
   ]
  },
  {
   "cell_type": "markdown",
   "id": "cfadd1ef-d5d1-459f-bbc1-9960813e2381",
   "metadata": {},
   "source": [
    "$$\n",
    "A = \\begin{bmatrix}\n",
    "3 & 2\\\\\n",
    "2 & 1\n",
    "\\end{bmatrix}\n",
    "$$\n",
    "\n",
    "Valores característicos:\n",
    "$$\n",
    "\\begin{vmatrix}\n",
    "3 - \\lambda & 2\\\\\n",
    "2           & 1 - \\lambda\n",
    "\\end{vmatrix} = (3 - \\lambda)(1 - \\lambda) - 4 = 3 - 4\\lambda + \\lambda^2 - 4 = \\lambda^2 - 4\\lambda - 1 = 0\\\\\n",
    "\\lambda = \\{2 + \\sqrt{5}, 2 - \\sqrt{5}\\}\n",
    "$$\n",
    "\n",
    "Vectores característicos:\n",
    "\n",
    "1. Con $\\lambda = 2 + \\sqrt{5}$\n",
    "\n",
    "$$\n",
    "\\begin{bmatrix}\n",
    "3a + 2b\\\\\n",
    "2a + b\n",
    "\\end{bmatrix} = \\begin{bmatrix}\n",
    "(2 + \\sqrt{5})a\\\\\n",
    "(2 + \\sqrt{5})b\n",
    "\\end{bmatrix}\n",
    "$$\n",
    "\n",
    "Resolviendo:\n",
    "\n",
    "$b = \\frac{-1 + \\sqrt{5}}{2}a = \\frac{2}{1 + \\sqrt{5}}a$\n",
    "\n",
    "Vector característico:\n",
    "\n",
    "$$\n",
    "\\begin{bmatrix}\n",
    "t\\\\\n",
    "\\frac{-1 + \\sqrt{5}}{2}t\n",
    "\\end{bmatrix} \\forall t \\in R\n",
    "$$\n",
    "\n",
    "Vector característico unitario:\n",
    "\n",
    "$$\n",
    "\\sqrt{t^2 + \\frac{3 - \\sqrt{5}}{2}t^2} = 1 \\implies t \\approx 0.8506508084\\\\\n",
    "\\begin{bmatrix}\n",
    "0.8506508084\\\\\n",
    "0.5257311121\n",
    "\\end{bmatrix}\n",
    "$$"
   ]
  },
  {
   "cell_type": "markdown",
   "id": "92ae9ecb-3466-482f-9933-01ab58614adc",
   "metadata": {},
   "source": [
    "2. Con $\\lambda = 2 - \\sqrt{5}$\n",
    "\n",
    "$$\n",
    "\\begin{bmatrix}\n",
    "3a + 2b\\\\\n",
    "2a + b\n",
    "\\end{bmatrix} = \\begin{bmatrix}\n",
    "(2 - \\sqrt{5})a\\\\\n",
    "(2 - \\sqrt{5})b\n",
    "\\end{bmatrix}\n",
    "$$\n",
    "\n",
    "Resolviendo:\n",
    "\n",
    "$b = -\\frac{1 + \\sqrt{5}}{2}a = \\frac{2}{1 - \\sqrt{5}}a$\n",
    "\n",
    "Vector característico:\n",
    "\n",
    "$$\n",
    "\\begin{bmatrix}\n",
    "t\\\\\n",
    "-\\frac{1 + \\sqrt{5}}{2}t\n",
    "\\end{bmatrix} \\forall t \\in R\n",
    "$$\n",
    "\n",
    "Vector característico unitario:\n",
    "\n",
    "$$\n",
    "\\sqrt{t^2 + \\frac{3 + \\sqrt{5}}{2}t^2} = 1 \\implies t \\approx 0.5257311121\\\\\n",
    "\\begin{bmatrix}\n",
    "0.5257311121\\\\\n",
    "-0.8506508084\n",
    "\\end{bmatrix}\n",
    "$$"
   ]
  },
  {
   "cell_type": "markdown",
   "id": "c6f8aa76-f466-4b19-aeac-9e6838544267",
   "metadata": {},
   "source": [
    "Luego\n",
    "\n",
    "$$\n",
    "V = \\begin{bmatrix}\n",
    "0.8506508084 & 0.5257311121\\\\\n",
    "0.5257311121 & -0.8506508084\n",
    "\\end{bmatrix}\n",
    "$$\n",
    "\n",
    "$$\n",
    "A = V \\Lambda V^T\\\\\n",
    "A = \\begin{bmatrix}\n",
    "0.8506508084 & 0.5257311121\\\\\n",
    "0.5257311121 & -0.8506508084\n",
    "\\end{bmatrix} \\begin{bmatrix}\n",
    "2 + \\sqrt{5} & 0\\\\\n",
    "0            & 2 - \\sqrt{5}\n",
    "\\end{bmatrix} \\begin{bmatrix}\n",
    "0.8506508084 & 0.5257311121\\\\\n",
    "0.5257311121 & -0.8506508084\n",
    "\\end{bmatrix}\n",
    "$$"
   ]
  },
  {
   "cell_type": "markdown",
   "id": "b6cd42b0-94c4-458c-a545-a1acc9c13e74",
   "metadata": {},
   "source": [
    "# Singular Value Decomposition"
   ]
  },
  {
   "cell_type": "markdown",
   "id": "40018199-2fac-4449-85ea-a0ef00ccacb0",
   "metadata": {},
   "source": [
    "MIT class\n",
    "https://www.youtube.com/watch?v=Nx0lRBaXoz4\n",
    "\n",
    "MIT class notes\n",
    "https://math.mit.edu/classes/18.095/2016IAP/lec2/SVD_Notes.pdf\n",
    "\n",
    "Other nice stuff\n",
    "https://gregorygundersen.com/blog/2018/12/20/svd-proof/\n",
    "\n",
    "https://gregorygundersen.com/blog/2018/12/10/svd/"
   ]
  },
  {
   "cell_type": "markdown",
   "id": "a071c7f8-7041-4543-9eaa-30e653ee9812",
   "metadata": {},
   "source": [
    "Se trata de hallar una base ortonormal $\\{v_1, v_2, \\dots v_n\\}$ en el espacio fila de $A$ tal que multiplicados por $A$ convierta esa base a una base en el espacio columna de $A$.\n",
    "\n",
    "Es decir, si $v_i$ pertenece a la base en el espacio fila, entonces $A v_i = \\sigma_i u_i$.\n",
    "\n",
    "Donde $u_i$ pertenece a la base en el espacio columna de $A$.\n",
    "\n",
    "$$\n",
    "A \\begin{bmatrix}v_1 & v_2 & \\dots & v_n\\end{bmatrix} = \\begin{bmatrix}\\sigma_1 u_1 & \\sigma_2 u_2 & \\dots & \\sigma_n u_n\\end{bmatrix}\n",
    "= \\begin{bmatrix}\n",
    "u_1 & u_2 & \\dots & u_n\n",
    "\\end{bmatrix}\n",
    "\\begin{bmatrix}\n",
    "\\sigma_1 & 0        & 0      & 0\\\\\n",
    "0        & \\sigma_2 & 0      & 0\\\\\n",
    "0        & 0        & \\ddots & 0\\\\\n",
    "0        & 0        & 0      & \\sigma_n\n",
    "\\end{bmatrix}\n",
    "= U \\Sigma\n",
    "$$\n",
    "\n",
    "$$\n",
    "A V = U \\Sigma \\implies A = U \\Sigma V^{-1}\n",
    "$$\n",
    "\n",
    "Como $V$ es ortonormal $\\implies V^{-1}=V^T$ (arriba está la demostración, también ver más abajo). Luego\n",
    "\n",
    "$$\n",
    "A = U \\Sigma V^T\n",
    "$$\n",
    "\n",
    "Para hallar a $U$ y a $V$:"
   ]
  },
  {
   "cell_type": "markdown",
   "id": "9ef1b7eb-0656-4f16-a0ff-cc5d744f5425",
   "metadata": {},
   "source": [
    "1. Hallar a $U$\n",
    "\n",
    "$$\n",
    "\\begin{split}\n",
    "A A^T &= (U \\Sigma V^T) (U \\Sigma V^T)^T\\\\\n",
    "&= U \\Sigma V^T V \\Sigma^T U^T\\\\\n",
    "&= U \\Sigma V^{-1} V \\Sigma U^T\\\\\n",
    "&= U \\Sigma^2 U^T\\\\\n",
    "\\end{split}\n",
    "$$\n",
    "\n",
    "$A A^T$ es cuadrada y nos encontramos en el primer caso (podemos calcular a $U$ mediante la diagonalización de $A A^T$)\n",
    "\n",
    "2. Hallar a $V$\n",
    "\n",
    "$$\n",
    "\\begin{split}\n",
    "A^T A &= (U \\Sigma V^T)^T (U \\Sigma V^T)\\\\\n",
    "&= V \\Sigma^T U^T U \\Sigma V^T\\\\\n",
    "&= V \\Sigma U^{-1} U \\Sigma V^T\\\\\n",
    "&= V \\Sigma^2 V^T\\\\\n",
    "\\end{split}\n",
    "$$\n",
    "\n",
    "$A^T A$ es cuadrada y nos encontramos en el primer caso (podemos calcular a $V$ mediante la diagonalización de $A^T A$)\n",
    "\n",
    "$A^T A$ y $A A^T$ son simétricas $\\implies V^{-1}=V^T, U^{-1}=U^T$ (demostración está arriba) y también implica que $U$ y $V$ son ortogonales (demostración arriba. De hecho se requiere que sean ortonormales)\n",
    "\n",
    "Demostración de que son simétricas:\n",
    "\n",
    "$$\n",
    "(A^T A)^T = A^T A^{T^T} = A^T A\\\\\n",
    "(A A^T)^T = A^{T^T} A^T = A A^T\n",
    "$$\n"
   ]
  },
  {
   "cell_type": "markdown",
   "id": "83a14683-4069-464f-a4c9-1bd0d96e06f1",
   "metadata": {},
   "source": [
    "### Código"
   ]
  },
  {
   "cell_type": "code",
   "execution_count": 6,
   "id": "0bc2720e-7954-454b-a476-14cf3db5d524",
   "metadata": {},
   "outputs": [],
   "source": [
    "A = np.array([\n",
    "    [1, 2, 3],\n",
    "    [3, 4, 5]\n",
    "])"
   ]
  },
  {
   "cell_type": "markdown",
   "id": "65aaa7fd-4c77-4a88-bd24-3af066f75c57",
   "metadata": {},
   "source": [
    "#### Cálculo de $U$"
   ]
  },
  {
   "cell_type": "code",
   "execution_count": 7,
   "id": "576b66cf-5fcd-4286-afc0-ebca49fdc440",
   "metadata": {},
   "outputs": [
    {
     "name": "stdout",
     "output_type": "stream",
     "text": [
      "[[-0.88577931 -0.46410668]\n",
      " [ 0.46410668 -0.88577931]]\n"
     ]
    }
   ],
   "source": [
    "# A A^T = U D^2 U^T\n",
    "eigvalsU, eigvects = np.linalg.eig(A.dot(A.T))\n",
    "U = eigvects\n",
    "print(U)"
   ]
  },
  {
   "cell_type": "markdown",
   "id": "a962259c-97b7-408f-9de3-68c19bc91fc1",
   "metadata": {},
   "source": [
    "#### Cálculo de $V$"
   ]
  },
  {
   "cell_type": "code",
   "execution_count": 8,
   "id": "247ea623-e0ff-40d5-a53c-4ecb616d5f18",
   "metadata": {},
   "outputs": [
    {
     "name": "stdout",
     "output_type": "stream",
     "text": [
      "[[-0.39133557 -0.8247362   0.40824829]\n",
      " [-0.5605708  -0.13817999 -0.81649658]\n",
      " [-0.72980603  0.54837623  0.40824829]]\n"
     ]
    }
   ],
   "source": [
    "# A^T A = V D^2 V^T\n",
    "eigvalsV, eigvects = np.linalg.eig(A.T.dot(A))\n",
    "V = eigvects\n",
    "print(V)\n",
    "#VT = V.T\n",
    "#VT = VT[[1, 0, 2], :]\n",
    "#print(VT)"
   ]
  },
  {
   "cell_type": "markdown",
   "id": "21ae8bcf-704e-4100-a87b-95f3b8a2b010",
   "metadata": {},
   "source": [
    "#### Cálculo de $\\Sigma$"
   ]
  },
  {
   "cell_type": "code",
   "execution_count": 9,
   "id": "cd3e7a70-bddd-4a99-96d7-b514fa894a1a",
   "metadata": {},
   "outputs": [
    {
     "name": "stdout",
     "output_type": "stream",
     "text": [
      "[ 0.3772234 63.6227766] [6.36227766e+01 3.77223398e-01 1.16614561e-15]\n"
     ]
    }
   ],
   "source": [
    "print(eigvalsU, eigvalsV)"
   ]
  },
  {
   "cell_type": "markdown",
   "id": "9c29511d-d805-4440-b430-7b6e16d1502a",
   "metadata": {},
   "source": [
    "**Nota**: Teóricamente los valores característicos deben ser los mismos, aquí los autovalores de $V$ tienen un pequeño error. En lugar de ser un número muy pequeño (`1.16614561e-15`) debería ser `0`. Para quitar esos defectos podemos filtrar `eigenvalues[eigenvalues > 1e-8]`"
   ]
  },
  {
   "cell_type": "markdown",
   "id": "b709c9db-f81d-4574-a065-45dab0c276cd",
   "metadata": {},
   "source": [
    "**Nota 2**: De hecho como la $\\lambda$ que corresponde con el tercer autovector de $A^T A$ (tercer columna de $V$) es 0, eso indica que todos los múltiplos pertenecen al núcleo porque todos se reducen a $\\textbf{0}$. Lo podemos comprobar si calculamos el núcleo de  $A^T A$"
   ]
  },
  {
   "cell_type": "code",
   "execution_count": 10,
   "id": "4d998ee3-c55e-4109-880d-ddc341e87cae",
   "metadata": {},
   "outputs": [
    {
     "data": {
      "text/plain": [
       "array([[10, 14, 18],\n",
       "       [14, 20, 26],\n",
       "       [18, 26, 34]])"
      ]
     },
     "execution_count": 10,
     "metadata": {},
     "output_type": "execute_result"
    }
   ],
   "source": [
    "# Núcleo: todos los x tales que (A^T A)x = 0\n",
    "A.T.dot(A)"
   ]
  },
  {
   "cell_type": "markdown",
   "id": "b6dac615-bcb2-49c2-acd9-8a221992810a",
   "metadata": {},
   "source": [
    "Su forma escalonada reducida es \n",
    "$$\n",
    "\\begin{bmatrix}\n",
    "1 & 0 & -1 & 0\\\\\n",
    "0 & 1 &  2 & 0\\\\\n",
    "0 & 0 &  0 & 0\n",
    "\\end{bmatrix} \\implies y + 2z = 0, x - z = 0 \\implies y = -2z, x = z\n",
    "$$\n",
    "\n",
    "Parametrizando $z=t$, el núcleo es $N(A^T A) = \\begin{bmatrix}\n",
    "t\\\\\n",
    "-2t\\\\\n",
    "t\n",
    "\\end{bmatrix} \\forall t \\in R$. Y en efecto, el tercer autovector pertenece al núcleo. De hecho es el mismo núcleo que el de $A$"
   ]
  },
  {
   "cell_type": "markdown",
   "id": "eca880f4-a7f5-4aaa-9cff-7b78ed891f95",
   "metadata": {},
   "source": [
    "**Nota 3**: Nótese que los valores característicos están al revés (en `eigvalsU` y `eigvalsV`). Para que todo funcione correctamente $\\sigma_i$ debe corresponder con $v_i$ y $u_i$, sino no va a jalar.\n",
    "\n",
    "Si tomamos $\\sigma_1^2 = 63.227766, \\sigma_2^2 = 0.3772234$, entonces $u_1 = U[:, 1]$, $u_2 = U[:, 0]$"
   ]
  },
  {
   "cell_type": "code",
   "execution_count": 11,
   "id": "3ab9a977-a5f0-4186-9b7c-1cda2211ef16",
   "metadata": {},
   "outputs": [],
   "source": [
    "U = U[:, [1, 0]]\n",
    "#U[:, 1] = -U[:, 1] # Si aquí hacemos este cambio las cuentas sí salen (ver abajo)"
   ]
  },
  {
   "cell_type": "code",
   "execution_count": 12,
   "id": "248e2d87-9c71-4202-b5f1-1ab0d768c38a",
   "metadata": {},
   "outputs": [
    {
     "name": "stdout",
     "output_type": "stream",
     "text": [
      "[[-0.46410668 -0.88577931]\n",
      " [-0.88577931  0.46410668]]\n",
      "[[7.97638869 0.         0.        ]\n",
      " [0.         0.61418515 0.        ]]\n",
      "[[-0.39133557 -0.5605708  -0.72980603]\n",
      " [-0.8247362  -0.13817999  0.54837623]\n",
      " [ 0.40824829 -0.81649658  0.40824829]]\n"
     ]
    },
    {
     "data": {
      "text/plain": [
       "array([[1.8973666 , 2.15034881, 2.40333102],\n",
       "       [2.52982213, 3.9212243 , 5.31262647]])"
      ]
     },
     "execution_count": 12,
     "metadata": {},
     "output_type": "execute_result"
    }
   ],
   "source": [
    "# U es 2x2\n",
    "# V es 3x3\n",
    "# D (Sigma) debe ser 2x3\n",
    "D = np.sqrt(np.array([\n",
    "    [eigvalsV[0], 0, 0],\n",
    "    [0, eigvalsV[1], 0],\n",
    "]))\n",
    "print(U)\n",
    "print(D)\n",
    "print(V.T)\n",
    "U.dot(D).dot(V.T)"
   ]
  },
  {
   "cell_type": "markdown",
   "id": "02ea89d3-411e-4006-87aa-1faaa343231d",
   "metadata": {},
   "source": [
    "No salen las cuentas, y es nada más por un signo en el segundo vector (segunda columna) de $V$. (Comparar estos resultados con los de `np.linalg.svd` más abajo).\n",
    "\n",
    "Teóricamente todo es correcto. No sé qué hice mal. Esta pregunta de SO es relativa a esto pero no es igual. https://math.stackexchange.com/questions/1805191/calculating-svd-by-hand-resolving-sign-ambiguities-in-the-range-vectors#2239200\n",
    "\n",
    "**Es muy probable que al intercambiar las columnas se deba cambiar también el signo de alguna columna**"
   ]
  },
  {
   "cell_type": "code",
   "execution_count": 13,
   "id": "f18f4146-bef7-4b04-a0aa-65034f7012e4",
   "metadata": {
    "tags": []
   },
   "outputs": [],
   "source": [
    "V[:, 1] = -V[:, 1]"
   ]
  },
  {
   "cell_type": "code",
   "execution_count": 14,
   "id": "fe125408-04f6-4ee3-9374-435f198d1ee0",
   "metadata": {},
   "outputs": [
    {
     "data": {
      "text/plain": [
       "array([[1., 2., 3.],\n",
       "       [3., 4., 5.]])"
      ]
     },
     "execution_count": 14,
     "metadata": {},
     "output_type": "execute_result"
    }
   ],
   "source": [
    "U.dot(D).dot(V.T)"
   ]
  },
  {
   "cell_type": "markdown",
   "id": "8b31e223-7de8-4167-91f6-11cace0f03be",
   "metadata": {},
   "source": [
    "#### Usando `np.linalg.svd`"
   ]
  },
  {
   "cell_type": "code",
   "execution_count": 15,
   "id": "08ce83a1-8707-4847-95f7-966b1fac0368",
   "metadata": {},
   "outputs": [
    {
     "name": "stdout",
     "output_type": "stream",
     "text": [
      "[[-0.46410668 -0.88577931]\n",
      " [-0.88577931  0.46410668]]\n",
      "[[7.97638869 0.         0.        ]\n",
      " [0.         0.61418515 0.        ]]\n",
      "[[-0.39133557 -0.5605708  -0.72980603]\n",
      " [ 0.8247362   0.13817999 -0.54837623]\n",
      " [ 0.40824829 -0.81649658  0.40824829]]\n"
     ]
    },
    {
     "data": {
      "text/plain": [
       "array([[1., 2., 3.],\n",
       "       [3., 4., 5.]])"
      ]
     },
     "execution_count": 15,
     "metadata": {},
     "output_type": "execute_result"
    }
   ],
   "source": [
    "U, D, V = np.linalg.svd(A)\n",
    "D = np.array([\n",
    "    [D[0], 0, 0],\n",
    "    [0, D[1], 0],\n",
    "])\n",
    "print(U)\n",
    "print(D)\n",
    "print(V)\n",
    "U.dot(D).dot(V)"
   ]
  },
  {
   "cell_type": "code",
   "execution_count": 16,
   "id": "2618df1c-054f-4daa-acae-36fe366e888e",
   "metadata": {},
   "outputs": [
    {
     "name": "stdout",
     "output_type": "stream",
     "text": [
      "[[1.00000000e+00 7.70334242e-17]\n",
      " [7.70334242e-17 1.00000000e+00]]\n",
      "[[ 1.00000000e+00 -3.96595893e-17  2.81394425e-17]\n",
      " [-3.96595893e-17  1.00000000e+00 -1.29310856e-16]\n",
      " [ 2.81394425e-17 -1.29310856e-16  1.00000000e+00]]\n"
     ]
    }
   ],
   "source": [
    "# Comprobando que U^-1 =U^T, V^-1 = V^T\n",
    "print(U @ U.T)\n",
    "print(V @ V.T)"
   ]
  },
  {
   "cell_type": "markdown",
   "id": "d9197394-ea15-4689-ad00-c41bd6669116",
   "metadata": {},
   "source": [
    "## Interpretación"
   ]
  },
  {
   "cell_type": "code",
   "execution_count": 17,
   "id": "6081f524-1c14-4009-8f31-831e638177d6",
   "metadata": {},
   "outputs": [
    {
     "name": "stdout",
     "output_type": "stream",
     "text": [
      "Primer rotación V\n"
     ]
    },
    {
     "data": {
      "image/png": "[encoded data removed]",
      "text/plain": [
       "<Figure size 432x288 with 1 Axes>"
      ]
     },
     "metadata": {
      "needs_background": "light"
     },
     "output_type": "display_data"
    },
    {
     "name": "stdout",
     "output_type": "stream",
     "text": [
      "Escalamiento D. NÓTESE LOS LÍMITES, EN X ES MÁS (7.97 VECES MÁS), EN Y ES MENOS (0.61 VECES MENOS)\n"
     ]
    },
    {
     "data": {
      "image/png": "[encoded data removed]",
      "text/plain": [
       "<Figure size 432x288 with 1 Axes>"
      ]
     },
     "metadata": {
      "needs_background": "light"
     },
     "output_type": "display_data"
    },
    {
     "name": "stdout",
     "output_type": "stream",
     "text": [
      "Segunda rotación U\n"
     ]
    },
    {
     "data": {
      "image/png": "[encoded data removed]",
      "text/plain": [
       "<Figure size 432x288 with 1 Axes>"
      ]
     },
     "metadata": {
      "needs_background": "light"
     },
     "output_type": "display_data"
    },
    {
     "name": "stdout",
     "output_type": "stream",
     "text": [
      "Transformación original A\n"
     ]
    },
    {
     "data": {
      "image/png": "[encoded data removed]",
      "text/plain": [
       "<Figure size 432x288 with 1 Axes>"
      ]
     },
     "metadata": {
      "needs_background": "light"
     },
     "output_type": "display_data"
    }
   ],
   "source": [
    "print(\"Primer rotación V\")\n",
    "graficarMatriz(V)\n",
    "plt.show()\n",
    "\n",
    "print(\"Escalamiento D. NÓTESE LOS LÍMITES, EN X ES MÁS (7.97 VECES MÁS), EN Y ES MENOS (0.61 VECES MENOS)\")\n",
    "graficarMatriz(D @ V)\n",
    "plt.show()\n",
    "\n",
    "print(\"Segunda rotación U\")\n",
    "graficarMatriz(U @ D @ V)\n",
    "plt.show()\n",
    "\n",
    "print(\"Transformación original A\")\n",
    "graficarMatriz(A)"
   ]
  }
 ],
 "metadata": {
  "kernelspec": {
   "display_name": "Python 3",
   "language": "python",
   "name": "python3"
  },
  "language_info": {
   "codemirror_mode": {
    "name": "ipython",
    "version": 3
   },
   "file_extension": ".py",
   "mimetype": "text/x-python",
   "name": "python",
   "nbconvert_exporter": "python",
   "pygments_lexer": "ipython3",
   "version": "3.9.7"
  }
 },
 "nbformat": 4,
 "nbformat_minor": 5
}
